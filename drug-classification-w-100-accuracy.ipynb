{
 "cells": [
  {
   "cell_type": "code",
   "execution_count": 1,
   "metadata": {
    "_cell_guid": "b1076dfc-b9ad-4769-8c92-a6c4dae69d19",
    "_uuid": "8f2839f25d086af736a60e9eeb907d3b93b6e0e5",
    "execution": {
     "iopub.execute_input": "2020-12-17T03:15:14.539766Z",
     "iopub.status.busy": "2020-12-17T03:15:14.539022Z",
     "iopub.status.idle": "2020-12-17T03:15:14.552858Z",
     "shell.execute_reply": "2020-12-17T03:15:14.551189Z"
    },
    "papermill": {
     "duration": 0.042415,
     "end_time": "2020-12-17T03:15:14.553005",
     "exception": false,
     "start_time": "2020-12-17T03:15:14.510590",
     "status": "completed"
    },
    "tags": []
   },
   "outputs": [
    {
     "name": "stdout",
     "output_type": "stream",
     "text": [
      "/kaggle/input/drug-classification/drug200.csv\n"
     ]
    }
   ],
   "source": [
    "# This Python 3 environment comes with many helpful analytics libraries installed\n",
    "# It is defined by the kaggle/python Docker image: https://github.com/kaggle/docker-python\n",
    "# For example, here's several helpful packages to load\n",
    "\n",
    "import numpy as np # linear algebra\n",
    "import pandas as pd # data processing, CSV file I/O (e.g. pd.read_csv)\n",
    "\n",
    "# Input data files are available in the read-only \"../input/\" directory\n",
    "# For example, running this (by clicking run or pressing Shift+Enter) will list all files under the input directory\n",
    "\n",
    "import os\n",
    "for dirname, _, filenames in os.walk('/kaggle/input'):\n",
    "    for filename in filenames:\n",
    "        print(os.path.join(dirname, filename))\n",
    "\n",
    "# You can write up to 20GB to the current directory (/kaggle/working/) that gets preserved as output when you create a version using \"Save & Run All\" \n",
    "# You can also write temporary files to /kaggle/temp/, but they won't be saved outside of the current session"
   ]
  },
  {
   "cell_type": "markdown",
   "metadata": {
    "papermill": {
     "duration": 0.018435,
     "end_time": "2020-12-17T03:15:14.592313",
     "exception": false,
     "start_time": "2020-12-17T03:15:14.573878",
     "status": "completed"
    },
    "tags": []
   },
   "source": [
    "# Importing Libraries"
   ]
  },
  {
   "cell_type": "code",
   "execution_count": 2,
   "metadata": {
    "_cell_guid": "79c7e3d0-c299-4dcb-8224-4455121ee9b0",
    "_uuid": "d629ff2d2480ee46fbb7e2d37f6b5fab8052498a",
    "execution": {
     "iopub.execute_input": "2020-12-17T03:15:14.636430Z",
     "iopub.status.busy": "2020-12-17T03:15:14.635745Z",
     "iopub.status.idle": "2020-12-17T03:15:16.008962Z",
     "shell.execute_reply": "2020-12-17T03:15:16.008318Z"
    },
    "papermill": {
     "duration": 1.397951,
     "end_time": "2020-12-17T03:15:16.009098",
     "exception": false,
     "start_time": "2020-12-17T03:15:14.611147",
     "status": "completed"
    },
    "tags": []
   },
   "outputs": [],
   "source": [
    "import matplotlib.pyplot as plt\n",
    "import seaborn as sns\n",
    "from sklearn import metrics\n",
    "from sklearn import tree\n",
    "from sklearn.preprocessing import LabelEncoder, StandardScaler\n",
    "from sklearn.model_selection import train_test_split , GridSearchCV\n",
    "from sklearn.metrics import plot_confusion_matrix ,accuracy_score"
   ]
  },
  {
   "cell_type": "code",
   "execution_count": 3,
   "metadata": {
    "execution": {
     "iopub.execute_input": "2020-12-17T03:15:16.054321Z",
     "iopub.status.busy": "2020-12-17T03:15:16.053308Z",
     "iopub.status.idle": "2020-12-17T03:15:16.095823Z",
     "shell.execute_reply": "2020-12-17T03:15:16.096455Z"
    },
    "papermill": {
     "duration": 0.067361,
     "end_time": "2020-12-17T03:15:16.096634",
     "exception": false,
     "start_time": "2020-12-17T03:15:16.029273",
     "status": "completed"
    },
    "tags": []
   },
   "outputs": [
    {
     "data": {
      "text/html": [
       "<div>\n",
       "<style scoped>\n",
       "    .dataframe tbody tr th:only-of-type {\n",
       "        vertical-align: middle;\n",
       "    }\n",
       "\n",
       "    .dataframe tbody tr th {\n",
       "        vertical-align: top;\n",
       "    }\n",
       "\n",
       "    .dataframe thead th {\n",
       "        text-align: right;\n",
       "    }\n",
       "</style>\n",
       "<table border=\"1\" class=\"dataframe\">\n",
       "  <thead>\n",
       "    <tr style=\"text-align: right;\">\n",
       "      <th></th>\n",
       "      <th>Age</th>\n",
       "      <th>Sex</th>\n",
       "      <th>BP</th>\n",
       "      <th>Cholesterol</th>\n",
       "      <th>Na_to_K</th>\n",
       "      <th>Drug</th>\n",
       "    </tr>\n",
       "  </thead>\n",
       "  <tbody>\n",
       "    <tr>\n",
       "      <th>0</th>\n",
       "      <td>23</td>\n",
       "      <td>F</td>\n",
       "      <td>HIGH</td>\n",
       "      <td>HIGH</td>\n",
       "      <td>25.355</td>\n",
       "      <td>DrugY</td>\n",
       "    </tr>\n",
       "    <tr>\n",
       "      <th>1</th>\n",
       "      <td>47</td>\n",
       "      <td>M</td>\n",
       "      <td>LOW</td>\n",
       "      <td>HIGH</td>\n",
       "      <td>13.093</td>\n",
       "      <td>drugC</td>\n",
       "    </tr>\n",
       "    <tr>\n",
       "      <th>2</th>\n",
       "      <td>47</td>\n",
       "      <td>M</td>\n",
       "      <td>LOW</td>\n",
       "      <td>HIGH</td>\n",
       "      <td>10.114</td>\n",
       "      <td>drugC</td>\n",
       "    </tr>\n",
       "    <tr>\n",
       "      <th>3</th>\n",
       "      <td>28</td>\n",
       "      <td>F</td>\n",
       "      <td>NORMAL</td>\n",
       "      <td>HIGH</td>\n",
       "      <td>7.798</td>\n",
       "      <td>drugX</td>\n",
       "    </tr>\n",
       "    <tr>\n",
       "      <th>4</th>\n",
       "      <td>61</td>\n",
       "      <td>F</td>\n",
       "      <td>LOW</td>\n",
       "      <td>HIGH</td>\n",
       "      <td>18.043</td>\n",
       "      <td>DrugY</td>\n",
       "    </tr>\n",
       "  </tbody>\n",
       "</table>\n",
       "</div>"
      ],
      "text/plain": [
       "   Age Sex      BP Cholesterol  Na_to_K   Drug\n",
       "0   23   F    HIGH        HIGH   25.355  DrugY\n",
       "1   47   M     LOW        HIGH   13.093  drugC\n",
       "2   47   M     LOW        HIGH   10.114  drugC\n",
       "3   28   F  NORMAL        HIGH    7.798  drugX\n",
       "4   61   F     LOW        HIGH   18.043  DrugY"
      ]
     },
     "execution_count": 3,
     "metadata": {},
     "output_type": "execute_result"
    }
   ],
   "source": [
    "df=pd.read_csv('../input/drug-classification/drug200.csv')\n",
    "df.head()"
   ]
  },
  {
   "cell_type": "code",
   "execution_count": 4,
   "metadata": {
    "execution": {
     "iopub.execute_input": "2020-12-17T03:15:16.140105Z",
     "iopub.status.busy": "2020-12-17T03:15:16.139052Z",
     "iopub.status.idle": "2020-12-17T03:15:16.147379Z",
     "shell.execute_reply": "2020-12-17T03:15:16.148071Z"
    },
    "papermill": {
     "duration": 0.032064,
     "end_time": "2020-12-17T03:15:16.148242",
     "exception": false,
     "start_time": "2020-12-17T03:15:16.116178",
     "status": "completed"
    },
    "tags": []
   },
   "outputs": [
    {
     "data": {
      "text/plain": [
       "DrugY    91\n",
       "drugX    54\n",
       "drugA    23\n",
       "drugB    16\n",
       "drugC    16\n",
       "Name: Drug, dtype: int64"
      ]
     },
     "execution_count": 4,
     "metadata": {},
     "output_type": "execute_result"
    }
   ],
   "source": [
    "df['Drug'].value_counts()"
   ]
  },
  {
   "cell_type": "markdown",
   "metadata": {
    "papermill": {
     "duration": 0.020383,
     "end_time": "2020-12-17T03:15:16.188603",
     "exception": false,
     "start_time": "2020-12-17T03:15:16.168220",
     "status": "completed"
    },
    "tags": []
   },
   "source": [
    "# Encoding Categorical Variables"
   ]
  },
  {
   "cell_type": "code",
   "execution_count": 5,
   "metadata": {
    "execution": {
     "iopub.execute_input": "2020-12-17T03:15:16.233432Z",
     "iopub.status.busy": "2020-12-17T03:15:16.232357Z",
     "iopub.status.idle": "2020-12-17T03:15:16.239283Z",
     "shell.execute_reply": "2020-12-17T03:15:16.239894Z"
    },
    "papermill": {
     "duration": 0.031128,
     "end_time": "2020-12-17T03:15:16.240027",
     "exception": false,
     "start_time": "2020-12-17T03:15:16.208899",
     "status": "completed"
    },
    "tags": []
   },
   "outputs": [
    {
     "data": {
      "text/plain": [
       "['Sex', 'BP', 'Cholesterol', 'Drug']"
      ]
     },
     "execution_count": 5,
     "metadata": {},
     "output_type": "execute_result"
    }
   ],
   "source": [
    "categorical_cols=[col for col in df.columns if df[col].dtype=='object']\n",
    "categorical_cols"
   ]
  },
  {
   "cell_type": "code",
   "execution_count": 6,
   "metadata": {
    "execution": {
     "iopub.execute_input": "2020-12-17T03:15:16.285269Z",
     "iopub.status.busy": "2020-12-17T03:15:16.284288Z",
     "iopub.status.idle": "2020-12-17T03:15:16.298991Z",
     "shell.execute_reply": "2020-12-17T03:15:16.299589Z"
    },
    "papermill": {
     "duration": 0.039079,
     "end_time": "2020-12-17T03:15:16.299748",
     "exception": false,
     "start_time": "2020-12-17T03:15:16.260669",
     "status": "completed"
    },
    "tags": []
   },
   "outputs": [
    {
     "data": {
      "text/html": [
       "<div>\n",
       "<style scoped>\n",
       "    .dataframe tbody tr th:only-of-type {\n",
       "        vertical-align: middle;\n",
       "    }\n",
       "\n",
       "    .dataframe tbody tr th {\n",
       "        vertical-align: top;\n",
       "    }\n",
       "\n",
       "    .dataframe thead th {\n",
       "        text-align: right;\n",
       "    }\n",
       "</style>\n",
       "<table border=\"1\" class=\"dataframe\">\n",
       "  <thead>\n",
       "    <tr style=\"text-align: right;\">\n",
       "      <th></th>\n",
       "      <th>Age</th>\n",
       "      <th>Sex</th>\n",
       "      <th>BP</th>\n",
       "      <th>Cholesterol</th>\n",
       "      <th>Na_to_K</th>\n",
       "      <th>Drug</th>\n",
       "    </tr>\n",
       "  </thead>\n",
       "  <tbody>\n",
       "    <tr>\n",
       "      <th>0</th>\n",
       "      <td>23</td>\n",
       "      <td>0</td>\n",
       "      <td>0</td>\n",
       "      <td>0</td>\n",
       "      <td>25.355</td>\n",
       "      <td>0</td>\n",
       "    </tr>\n",
       "    <tr>\n",
       "      <th>1</th>\n",
       "      <td>47</td>\n",
       "      <td>1</td>\n",
       "      <td>1</td>\n",
       "      <td>0</td>\n",
       "      <td>13.093</td>\n",
       "      <td>3</td>\n",
       "    </tr>\n",
       "    <tr>\n",
       "      <th>2</th>\n",
       "      <td>47</td>\n",
       "      <td>1</td>\n",
       "      <td>1</td>\n",
       "      <td>0</td>\n",
       "      <td>10.114</td>\n",
       "      <td>3</td>\n",
       "    </tr>\n",
       "    <tr>\n",
       "      <th>3</th>\n",
       "      <td>28</td>\n",
       "      <td>0</td>\n",
       "      <td>2</td>\n",
       "      <td>0</td>\n",
       "      <td>7.798</td>\n",
       "      <td>4</td>\n",
       "    </tr>\n",
       "    <tr>\n",
       "      <th>4</th>\n",
       "      <td>61</td>\n",
       "      <td>0</td>\n",
       "      <td>1</td>\n",
       "      <td>0</td>\n",
       "      <td>18.043</td>\n",
       "      <td>0</td>\n",
       "    </tr>\n",
       "  </tbody>\n",
       "</table>\n",
       "</div>"
      ],
      "text/plain": [
       "   Age  Sex  BP  Cholesterol  Na_to_K  Drug\n",
       "0   23    0   0            0   25.355     0\n",
       "1   47    1   1            0   13.093     3\n",
       "2   47    1   1            0   10.114     3\n",
       "3   28    0   2            0    7.798     4\n",
       "4   61    0   1            0   18.043     0"
      ]
     },
     "execution_count": 6,
     "metadata": {},
     "output_type": "execute_result"
    }
   ],
   "source": [
    "label_encoder=LabelEncoder()\n",
    "labelled_df=df.copy()\n",
    "for col in categorical_cols:\n",
    "    labelled_df[col]=label_encoder.fit_transform(df[col])\n",
    "labelled_df.head()    "
   ]
  },
  {
   "cell_type": "markdown",
   "metadata": {
    "papermill": {
     "duration": 0.021055,
     "end_time": "2020-12-17T03:15:16.342083",
     "exception": false,
     "start_time": "2020-12-17T03:15:16.321028",
     "status": "completed"
    },
    "tags": []
   },
   "source": [
    "# Train Test Split"
   ]
  },
  {
   "cell_type": "code",
   "execution_count": 7,
   "metadata": {
    "execution": {
     "iopub.execute_input": "2020-12-17T03:15:16.388714Z",
     "iopub.status.busy": "2020-12-17T03:15:16.387691Z",
     "iopub.status.idle": "2020-12-17T03:15:16.398755Z",
     "shell.execute_reply": "2020-12-17T03:15:16.399298Z"
    },
    "papermill": {
     "duration": 0.036202,
     "end_time": "2020-12-17T03:15:16.399445",
     "exception": false,
     "start_time": "2020-12-17T03:15:16.363243",
     "status": "completed"
    },
    "tags": []
   },
   "outputs": [
    {
     "data": {
      "text/plain": [
       "0    0\n",
       "1    3\n",
       "2    3\n",
       "3    4\n",
       "4    0\n",
       "Name: Drug, dtype: int64"
      ]
     },
     "execution_count": 7,
     "metadata": {},
     "output_type": "execute_result"
    }
   ],
   "source": [
    "X=labelled_df.drop('Drug',axis=1)\n",
    "y=labelled_df['Drug']\n",
    "y.head()"
   ]
  },
  {
   "cell_type": "code",
   "execution_count": 8,
   "metadata": {
    "execution": {
     "iopub.execute_input": "2020-12-17T03:15:16.447095Z",
     "iopub.status.busy": "2020-12-17T03:15:16.446090Z",
     "iopub.status.idle": "2020-12-17T03:15:16.457051Z",
     "shell.execute_reply": "2020-12-17T03:15:16.457652Z"
    },
    "papermill": {
     "duration": 0.036396,
     "end_time": "2020-12-17T03:15:16.457796",
     "exception": false,
     "start_time": "2020-12-17T03:15:16.421400",
     "status": "completed"
    },
    "tags": []
   },
   "outputs": [
    {
     "data": {
      "text/plain": [
       "(200, 5)"
      ]
     },
     "execution_count": 8,
     "metadata": {},
     "output_type": "execute_result"
    }
   ],
   "source": [
    "scaler=StandardScaler()\n",
    "feature_set=scaler.fit_transform(X)\n",
    "feature_set.shape"
   ]
  },
  {
   "cell_type": "code",
   "execution_count": 9,
   "metadata": {
    "execution": {
     "iopub.execute_input": "2020-12-17T03:15:16.507544Z",
     "iopub.status.busy": "2020-12-17T03:15:16.506421Z",
     "iopub.status.idle": "2020-12-17T03:15:16.514553Z",
     "shell.execute_reply": "2020-12-17T03:15:16.515153Z"
    },
    "papermill": {
     "duration": 0.035334,
     "end_time": "2020-12-17T03:15:16.515304",
     "exception": false,
     "start_time": "2020-12-17T03:15:16.479970",
     "status": "completed"
    },
    "tags": []
   },
   "outputs": [
    {
     "data": {
      "text/plain": [
       "(160, 5)"
      ]
     },
     "execution_count": 9,
     "metadata": {},
     "output_type": "execute_result"
    }
   ],
   "source": [
    "X_train,X_val,y_train,y_val=train_test_split(feature_set,y,test_size=0.2,random_state=0)\n",
    "X_train.shape"
   ]
  },
  {
   "cell_type": "markdown",
   "metadata": {
    "papermill": {
     "duration": 0.023168,
     "end_time": "2020-12-17T03:15:16.561287",
     "exception": false,
     "start_time": "2020-12-17T03:15:16.538119",
     "status": "completed"
    },
    "tags": []
   },
   "source": [
    "# KNearest Neighbors Classification"
   ]
  },
  {
   "cell_type": "code",
   "execution_count": 10,
   "metadata": {
    "execution": {
     "iopub.execute_input": "2020-12-17T03:15:16.611202Z",
     "iopub.status.busy": "2020-12-17T03:15:16.610187Z",
     "iopub.status.idle": "2020-12-17T03:15:16.678663Z",
     "shell.execute_reply": "2020-12-17T03:15:16.679343Z"
    },
    "papermill": {
     "duration": 0.095271,
     "end_time": "2020-12-17T03:15:16.679503",
     "exception": false,
     "start_time": "2020-12-17T03:15:16.584232",
     "status": "completed"
    },
    "tags": []
   },
   "outputs": [
    {
     "data": {
      "text/plain": [
       "array([0.975, 0.95 , 0.9  , 0.9  , 0.825, 0.8  , 0.825, 0.8  , 0.825])"
      ]
     },
     "execution_count": 10,
     "metadata": {},
     "output_type": "execute_result"
    }
   ],
   "source": [
    "from sklearn.neighbors import KNeighborsClassifier\n",
    "\n",
    "Ks=10\n",
    "mean_acc=np.zeros((Ks-1))\n",
    "std_acc=np.zeros((Ks-1))\n",
    "ConfusionMx=[];\n",
    "for n in range(1,Ks):\n",
    "    #Train Model and Predict\n",
    "    neigh=KNeighborsClassifier(n_neighbors=n).fit(X_train,y_train)\n",
    "    yhat=neigh.predict(X_val)\n",
    "    mean_acc[n-1]=metrics.accuracy_score(y_val,yhat)\n",
    "    \n",
    "    std_acc[n-1]=np.std(yhat==y_val)/np.sqrt(yhat.shape[0])\n",
    "mean_acc"
   ]
  },
  {
   "cell_type": "code",
   "execution_count": 11,
   "metadata": {
    "execution": {
     "iopub.execute_input": "2020-12-17T03:15:16.730552Z",
     "iopub.status.busy": "2020-12-17T03:15:16.729538Z",
     "iopub.status.idle": "2020-12-17T03:15:16.970722Z",
     "shell.execute_reply": "2020-12-17T03:15:16.969653Z"
    },
    "papermill": {
     "duration": 0.268069,
     "end_time": "2020-12-17T03:15:16.970854",
     "exception": false,
     "start_time": "2020-12-17T03:15:16.702785",
     "status": "completed"
    },
    "tags": []
   },
   "outputs": [
    {
     "data": {
      "image/png": "[encoded data removed]",
      "text/plain": [
       "<Figure size 432x288 with 1 Axes>"
      ]
     },
     "metadata": {
      "needs_background": "light"
     },
     "output_type": "display_data"
    }
   ],
   "source": [
    "plt.plot(range(1,Ks),mean_acc,'g')\n",
    "plt.fill_between(range(1,Ks),mean_acc-1*std_acc,mean_acc+1*std_acc,alpha=0.10)\n",
    "plt.legend(('Accuracy','+/-3xstd'))\n",
    "plt.ylabel('Accuracy')\n",
    "plt.xlabel('Number of neighbors(K)')\n",
    "plt.show()"
   ]
  },
  {
   "cell_type": "code",
   "execution_count": 12,
   "metadata": {
    "execution": {
     "iopub.execute_input": "2020-12-17T03:15:17.025918Z",
     "iopub.status.busy": "2020-12-17T03:15:17.025169Z",
     "iopub.status.idle": "2020-12-17T03:15:17.028534Z",
     "shell.execute_reply": "2020-12-17T03:15:17.029266Z"
    },
    "papermill": {
     "duration": 0.034114,
     "end_time": "2020-12-17T03:15:17.029458",
     "exception": false,
     "start_time": "2020-12-17T03:15:16.995344",
     "status": "completed"
    },
    "tags": []
   },
   "outputs": [
    {
     "name": "stdout",
     "output_type": "stream",
     "text": [
      "The best accuracy =  0.975 with K =  1\n"
     ]
    }
   ],
   "source": [
    "knn_acc=mean_acc.max()\n",
    "print('The best accuracy = ',knn_acc,'with K = ',mean_acc.argmax()+1)"
   ]
  },
  {
   "cell_type": "markdown",
   "metadata": {
    "papermill": {
     "duration": 0.026659,
     "end_time": "2020-12-17T03:15:17.081891",
     "exception": false,
     "start_time": "2020-12-17T03:15:17.055232",
     "status": "completed"
    },
    "tags": []
   },
   "source": [
    "# Gaussian Naive Bayes"
   ]
  },
  {
   "cell_type": "code",
   "execution_count": 13,
   "metadata": {
    "execution": {
     "iopub.execute_input": "2020-12-17T03:15:17.134965Z",
     "iopub.status.busy": "2020-12-17T03:15:17.134288Z",
     "iopub.status.idle": "2020-12-17T03:15:17.146572Z",
     "shell.execute_reply": "2020-12-17T03:15:17.145890Z"
    },
    "papermill": {
     "duration": 0.040071,
     "end_time": "2020-12-17T03:15:17.146689",
     "exception": false,
     "start_time": "2020-12-17T03:15:17.106618",
     "status": "completed"
    },
    "tags": []
   },
   "outputs": [
    {
     "data": {
      "text/plain": [
       "0.875"
      ]
     },
     "execution_count": 13,
     "metadata": {},
     "output_type": "execute_result"
    }
   ],
   "source": [
    "from sklearn.naive_bayes import GaussianNB\n",
    "\n",
    "nb=GaussianNB()\n",
    "nb.fit(X_train,y_train)\n",
    "pred=nb.predict(X_val)\n",
    "nb_acc=accuracy_score(pred,y_val)\n",
    "nb_acc"
   ]
  },
  {
   "cell_type": "markdown",
   "metadata": {
    "papermill": {
     "duration": 0.025621,
     "end_time": "2020-12-17T03:15:17.197848",
     "exception": false,
     "start_time": "2020-12-17T03:15:17.172227",
     "status": "completed"
    },
    "tags": []
   },
   "source": [
    "# Logistic Regression"
   ]
  },
  {
   "cell_type": "code",
   "execution_count": 14,
   "metadata": {
    "execution": {
     "iopub.execute_input": "2020-12-17T03:15:17.255781Z",
     "iopub.status.busy": "2020-12-17T03:15:17.255120Z",
     "iopub.status.idle": "2020-12-17T03:15:17.263639Z",
     "shell.execute_reply": "2020-12-17T03:15:17.264116Z"
    },
    "papermill": {
     "duration": 0.040861,
     "end_time": "2020-12-17T03:15:17.264263",
     "exception": false,
     "start_time": "2020-12-17T03:15:17.223402",
     "status": "completed"
    },
    "tags": []
   },
   "outputs": [
    {
     "data": {
      "text/plain": [
       "0.875"
      ]
     },
     "execution_count": 14,
     "metadata": {},
     "output_type": "execute_result"
    }
   ],
   "source": [
    "from sklearn.linear_model import LogisticRegression\n",
    "\n",
    "lr=LogisticRegression(C=0.01,solver='liblinear')\n",
    "lr.fit(X_train,y_train)\n",
    "pred=lr.predict(X_val)\n",
    "lr_acc=accuracy_score(pred,y_val)\n",
    "lr_acc"
   ]
  },
  {
   "cell_type": "markdown",
   "metadata": {
    "papermill": {
     "duration": 0.025223,
     "end_time": "2020-12-17T03:15:17.315623",
     "exception": false,
     "start_time": "2020-12-17T03:15:17.290400",
     "status": "completed"
    },
    "tags": []
   },
   "source": [
    "# Decision Tree"
   ]
  },
  {
   "cell_type": "code",
   "execution_count": 15,
   "metadata": {
    "execution": {
     "iopub.execute_input": "2020-12-17T03:15:17.375782Z",
     "iopub.status.busy": "2020-12-17T03:15:17.375071Z",
     "iopub.status.idle": "2020-12-17T03:15:17.472232Z",
     "shell.execute_reply": "2020-12-17T03:15:17.471173Z"
    },
    "papermill": {
     "duration": 0.131029,
     "end_time": "2020-12-17T03:15:17.472371",
     "exception": false,
     "start_time": "2020-12-17T03:15:17.341342",
     "status": "completed"
    },
    "tags": []
   },
   "outputs": [
    {
     "name": "stdout",
     "output_type": "stream",
     "text": [
      "{'max_depth': 4}\n"
     ]
    }
   ],
   "source": [
    "from sklearn.tree import DecisionTreeClassifier\n",
    "\n",
    "model=DecisionTreeClassifier()\n",
    "parameters=[{'max_depth':[1,2,3,4,5,6,7,8,9,10]}]\n",
    "clf=GridSearchCV(model,parameters,cv=5,scoring='accuracy')\n",
    "clf.fit(X_train,y_train)\n",
    "print(clf.best_params_)"
   ]
  },
  {
   "cell_type": "markdown",
   "metadata": {
    "papermill": {
     "duration": 0.026023,
     "end_time": "2020-12-17T03:15:17.525157",
     "exception": false,
     "start_time": "2020-12-17T03:15:17.499134",
     "status": "completed"
    },
    "tags": []
   },
   "source": [
    "**So, max_depth is 4**"
   ]
  },
  {
   "cell_type": "code",
   "execution_count": 16,
   "metadata": {
    "execution": {
     "iopub.execute_input": "2020-12-17T03:15:17.586294Z",
     "iopub.status.busy": "2020-12-17T03:15:17.585644Z",
     "iopub.status.idle": "2020-12-17T03:15:17.593174Z",
     "shell.execute_reply": "2020-12-17T03:15:17.592606Z"
    },
    "papermill": {
     "duration": 0.041689,
     "end_time": "2020-12-17T03:15:17.593290",
     "exception": false,
     "start_time": "2020-12-17T03:15:17.551601",
     "status": "completed"
    },
    "tags": []
   },
   "outputs": [
    {
     "data": {
      "text/plain": [
       "1.0"
      ]
     },
     "execution_count": 16,
     "metadata": {},
     "output_type": "execute_result"
    }
   ],
   "source": [
    "clf=DecisionTreeClassifier(criterion='entropy',max_depth=4)\n",
    "clf.fit(X_train,y_train)\n",
    "pred=clf.predict(X_val)\n",
    "tree_acc=accuracy_score(pred,y_val)\n",
    "tree_acc"
   ]
  },
  {
   "cell_type": "markdown",
   "metadata": {
    "papermill": {
     "duration": 0.026543,
     "end_time": "2020-12-17T03:15:17.646514",
     "exception": false,
     "start_time": "2020-12-17T03:15:17.619971",
     "status": "completed"
    },
    "tags": []
   },
   "source": [
    "**100% accuracy**"
   ]
  },
  {
   "cell_type": "code",
   "execution_count": 17,
   "metadata": {
    "execution": {
     "iopub.execute_input": "2020-12-17T03:15:17.714420Z",
     "iopub.status.busy": "2020-12-17T03:15:17.713359Z",
     "iopub.status.idle": "2020-12-17T03:15:17.936879Z",
     "shell.execute_reply": "2020-12-17T03:15:17.936271Z"
    },
    "papermill": {
     "duration": 0.262621,
     "end_time": "2020-12-17T03:15:17.937001",
     "exception": false,
     "start_time": "2020-12-17T03:15:17.674380",
     "status": "completed"
    },
    "tags": []
   },
   "outputs": [
    {
     "data": {
      "text/plain": [
       "<sklearn.metrics._plot.confusion_matrix.ConfusionMatrixDisplay at 0x7fc751257ed0>"
      ]
     },
     "execution_count": 17,
     "metadata": {},
     "output_type": "execute_result"
    },
    {
     "data": {
      "image/png": "[encoded data removed]",
      "text/plain": [
       "<Figure size 432x288 with 2 Axes>"
      ]
     },
     "metadata": {
      "needs_background": "light"
     },
     "output_type": "display_data"
    }
   ],
   "source": [
    "plot_confusion_matrix(clf,X_val,y_val,cmap=plt.cm.Reds,display_labels=['Drug A','Drug B','Drug C','Drug X',\n",
    "                                                     'Drug Y'])"
   ]
  },
  {
   "cell_type": "markdown",
   "metadata": {
    "papermill": {
     "duration": 0.028579,
     "end_time": "2020-12-17T03:15:17.994945",
     "exception": false,
     "start_time": "2020-12-17T03:15:17.966366",
     "status": "completed"
    },
    "tags": []
   },
   "source": [
    "# Accuracy Scores"
   ]
  },
  {
   "cell_type": "code",
   "execution_count": 18,
   "metadata": {
    "execution": {
     "iopub.execute_input": "2020-12-17T03:15:18.067507Z",
     "iopub.status.busy": "2020-12-17T03:15:18.066755Z",
     "iopub.status.idle": "2020-12-17T03:15:18.071662Z",
     "shell.execute_reply": "2020-12-17T03:15:18.071015Z"
    },
    "papermill": {
     "duration": 0.048237,
     "end_time": "2020-12-17T03:15:18.071788",
     "exception": false,
     "start_time": "2020-12-17T03:15:18.023551",
     "status": "completed"
    },
    "tags": []
   },
   "outputs": [
    {
     "data": {
      "text/html": [
       "<div>\n",
       "<style scoped>\n",
       "    .dataframe tbody tr th:only-of-type {\n",
       "        vertical-align: middle;\n",
       "    }\n",
       "\n",
       "    .dataframe tbody tr th {\n",
       "        vertical-align: top;\n",
       "    }\n",
       "\n",
       "    .dataframe thead th {\n",
       "        text-align: right;\n",
       "    }\n",
       "</style>\n",
       "<table border=\"1\" class=\"dataframe\">\n",
       "  <thead>\n",
       "    <tr style=\"text-align: right;\">\n",
       "      <th></th>\n",
       "      <th>Models</th>\n",
       "      <th>Accuracy</th>\n",
       "    </tr>\n",
       "  </thead>\n",
       "  <tbody>\n",
       "    <tr>\n",
       "      <th>3</th>\n",
       "      <td>Decision Tree</td>\n",
       "      <td>1.000</td>\n",
       "    </tr>\n",
       "    <tr>\n",
       "      <th>0</th>\n",
       "      <td>KNearest Neighbors</td>\n",
       "      <td>0.975</td>\n",
       "    </tr>\n",
       "    <tr>\n",
       "      <th>1</th>\n",
       "      <td>Gaussian Naive Bayes</td>\n",
       "      <td>0.875</td>\n",
       "    </tr>\n",
       "    <tr>\n",
       "      <th>2</th>\n",
       "      <td>Logistic Regression</td>\n",
       "      <td>0.875</td>\n",
       "    </tr>\n",
       "  </tbody>\n",
       "</table>\n",
       "</div>"
      ],
      "text/plain": [
       "                 Models  Accuracy\n",
       "3         Decision Tree     1.000\n",
       "0    KNearest Neighbors     0.975\n",
       "1  Gaussian Naive Bayes     0.875\n",
       "2   Logistic Regression     0.875"
      ]
     },
     "execution_count": 18,
     "metadata": {},
     "output_type": "execute_result"
    }
   ],
   "source": [
    "scores=pd.DataFrame({\n",
    "    'Models':['KNearest Neighbors','Gaussian Naive Bayes','Logistic Regression','Decision Tree'],\n",
    "    'Accuracy':[knn_acc,nb_acc,lr_acc,tree_acc]\n",
    "})\n",
    "scores.sort_values(by='Accuracy',ascending=False)"
   ]
  },
  {
   "cell_type": "markdown",
   "metadata": {
    "papermill": {
     "duration": 0.028661,
     "end_time": "2020-12-17T03:15:18.129774",
     "exception": false,
     "start_time": "2020-12-17T03:15:18.101113",
     "status": "completed"
    },
    "tags": []
   },
   "source": [
    "**So, We use Decision Tree Classification Model to predict Drugs with 100% accuracy**"
   ]
  },
  {
   "cell_type": "markdown",
   "metadata": {
    "papermill": {
     "duration": 0.028508,
     "end_time": "2020-12-17T03:15:18.186910",
     "exception": false,
     "start_time": "2020-12-17T03:15:18.158402",
     "status": "completed"
    },
    "tags": []
   },
   "source": [
    "# Visualization"
   ]
  },
  {
   "cell_type": "code",
   "execution_count": 19,
   "metadata": {
    "execution": {
     "iopub.execute_input": "2020-12-17T03:15:18.337744Z",
     "iopub.status.busy": "2020-12-17T03:15:18.336583Z",
     "iopub.status.idle": "2020-12-17T03:15:18.734423Z",
     "shell.execute_reply": "2020-12-17T03:15:18.734985Z"
    },
    "papermill": {
     "duration": 0.519296,
     "end_time": "2020-12-17T03:15:18.735141",
     "exception": false,
     "start_time": "2020-12-17T03:15:18.215845",
     "status": "completed"
    },
    "tags": []
   },
   "outputs": [
    {
     "data": {
      "text/plain": [
       "[Text(488.25, 342.46799999999996, 'X[4] <= -0.174\\nentropy = 2.008\\nsamples = 160\\nvalue = [72, 20, 15, 13, 40]'),\n",
       " Text(390.6, 266.364, 'X[2] <= -0.5\\nentropy = 1.846\\nsamples = 88\\nvalue = [0, 20, 15, 13, 40]'),\n",
       " Text(195.3, 190.26, 'X[0] <= 0.375\\nentropy = 0.985\\nsamples = 35\\nvalue = [0, 20, 15, 0, 0]'),\n",
       " Text(97.65, 114.156, 'entropy = 0.0\\nsamples = 20\\nvalue = [0, 20, 0, 0, 0]'),\n",
       " Text(292.95000000000005, 114.156, 'entropy = 0.0\\nsamples = 15\\nvalue = [0, 0, 15, 0, 0]'),\n",
       " Text(585.9000000000001, 190.26, 'X[2] <= 0.72\\nentropy = 0.804\\nsamples = 53\\nvalue = [0, 0, 0, 13, 40]'),\n",
       " Text(488.25, 114.156, 'X[3] <= 0.03\\nentropy = 1.0\\nsamples = 26\\nvalue = [0, 0, 0, 13, 13]'),\n",
       " Text(390.6, 38.051999999999964, 'entropy = 0.0\\nsamples = 13\\nvalue = [0, 0, 0, 13, 0]'),\n",
       " Text(585.9000000000001, 38.051999999999964, 'entropy = 0.0\\nsamples = 13\\nvalue = [0, 0, 0, 0, 13]'),\n",
       " Text(683.5500000000001, 114.156, 'entropy = 0.0\\nsamples = 27\\nvalue = [0, 0, 0, 0, 27]'),\n",
       " Text(585.9000000000001, 266.364, 'entropy = 0.0\\nsamples = 72\\nvalue = [72, 0, 0, 0, 0]')]"
      ]
     },
     "execution_count": 19,
     "metadata": {},
     "output_type": "execute_result"
    },
    {
     "data": {
      "image/png": "[encoded data removed]",
      "text/plain": [
       "<Figure size 1008x504 with 1 Axes>"
      ]
     },
     "metadata": {
      "needs_background": "light"
     },
     "output_type": "display_data"
    }
   ],
   "source": [
    "plt.figure(figsize=(14,7))\n",
    "tree.plot_tree(clf, rounded=True, filled=True)"
   ]
  },
  {
   "cell_type": "code",
   "execution_count": null,
   "metadata": {
    "papermill": {
     "duration": 0.036791,
     "end_time": "2020-12-17T03:15:18.803987",
     "exception": false,
     "start_time": "2020-12-17T03:15:18.767196",
     "status": "completed"
    },
    "tags": []
   },
   "outputs": [],
   "source": []
  }
 ],
 "metadata": {
  "kernelspec": {
   "display_name": "Python 3",
   "language": "python",
   "name": "python3"
  },
  "language_info": {
   "codemirror_mode": {
    "name": "ipython",
    "version": 3
   },
   "file_extension": ".py",
   "mimetype": "text/x-python",
   "name": "python",
   "nbconvert_exporter": "python",
   "pygments_lexer": "ipython3",
   "version": "3.7.6"
  },
  "papermill": {
   "duration": 9.266137,
   "end_time": "2020-12-17T03:15:18.943371",
   "environment_variables": {},
   "exception": null,
   "input_path": "__notebook__.ipynb",
   "output_path": "__notebook__.ipynb",
   "parameters": {},
   "start_time": "2020-12-17T03:15:09.677234",
   "version": "2.1.0"
  }
 },
 "nbformat": 4,
 "nbformat_minor": 4
}
